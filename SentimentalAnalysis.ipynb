{
 "cells": [
  {
   "cell_type": "code",
   "execution_count": 6,
   "metadata": {},
   "outputs": [],
   "source": [
    "import kafka \n",
    "import json\n",
    "import tweepy\n",
    "import configparser"
   ]
  },
  {
   "cell_type": "code",
   "execution_count": 4,
   "metadata": {},
   "outputs": [],
   "source": [
    "class TweeterStreamListener(tweepy.StreamListener):\n",
    "    \"\"\" A class to read the twitter stream and push it to Kafka\"\"\"\n",
    "\n",
    "    def __init__(self, api):\n",
    "        self.api = api\n",
    "        super(tweepy.StreamListener, self).__init__()\n",
    "        client = KafkaClient(\"localhost:9092\")\n",
    "        self.producer = SimpleProducer(client,batch_send_every_n = 10,batch_send_every_t = 10)\n",
    "\n",
    "    def on_status(self, status):\n",
    "        \"\"\" This method is called whenever new data arrives from live stream.\n",
    "        We asynchronously push this data to kafka queue\"\"\"\n",
    "        msg =  status.text.encode('utf-8')\n",
    "        try:\n",
    "            self.producer.send_messages(b'twitterstream', msg)\n",
    "        except Exception as e:\n",
    "            print(e)\n",
    "            return False\n",
    "        return True\n",
    "\n",
    "    def on_error(self, status_code):\n",
    "        print(\"Error received in kafka producer\")\n",
    "        return True # Don't kill the stream\n",
    "\n",
    "    def on_timeout(self):\n",
    "        return True # Don't kill the stream"
   ]
  },
  {
   "cell_type": "code",
   "execution_count": null,
   "metadata": {},
   "outputs": [],
   "source": [
    "if __name__ == '__main__':\n",
    "\n",
    "    # Read the credententials from 'twitter-app-credentials.txt' file\n",
    "    config = configparser.ConfigParser()\n",
    "    config.read('twitter-app-credentials.txt')\n",
    "    consumer_key = config['DEFAULT']['consumerKey']\n",
    "    consumer_secret = config['DEFAULT']['consumerSecret']\n",
    "    access_key = config['DEFAULT']['accessToken']\n",
    "    access_secret = config['DEFAULT']['accessTokenSecret']\n",
    "\n",
    "    # Create Auth object\n",
    "    auth = tweepy.OAuthHandler(consumer_key, consumer_secret)\n",
    "    auth.set_access_token(access_key, access_secret)\n",
    "    api = tweepy.API(auth)\n",
    "\n",
    "    # Create stream and bind the listener to it\n",
    "    stream = tweepy.Stream(auth, listener = TweeterStreamListener(api))\n",
    "\n",
    "    "
   ]
  }
 ],
 "metadata": {
  "kernelspec": {
   "display_name": "Python 3",
   "language": "python",
   "name": "python3"
  },
  "language_info": {
   "codemirror_mode": {
    "name": "ipython",
    "version": 3
   },
   "file_extension": ".py",
   "mimetype": "text/x-python",
   "name": "python",
   "nbconvert_exporter": "python",
   "pygments_lexer": "ipython3",
   "version": "3.7.3"
  }
 },
 "nbformat": 4,
 "nbformat_minor": 2
}
